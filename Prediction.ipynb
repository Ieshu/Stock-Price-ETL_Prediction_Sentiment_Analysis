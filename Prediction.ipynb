{
 "cells": [
  {
   "cell_type": "code",
   "execution_count": 1,
   "metadata": {},
   "outputs": [],
   "source": [
    "import psycopg2\n",
    "import configparser\n",
    "import pandas as pd\n",
    "import numpy as np\n",
    "import pandas as pd\n",
    "import yfinance as yf\n",
    "import pandas as pd\n",
    "from datetime import *\n",
    "from matplotlib.pyplot import *"
   ]
  },
  {
   "cell_type": "code",
   "execution_count": 2,
   "metadata": {},
   "outputs": [],
   "source": [
    "def create_connection():\n",
    "    conn = psycopg2.connect(\"host=127.0.0.1 dbname=dmqldb user=postgres password=student\")\n",
    "    cur = conn.cursor()       \n",
    "    return conn, cur\n",
    "\n",
    "conn, cur = create_connection()"
   ]
  },
  {
   "cell_type": "code",
   "execution_count": 3,
   "metadata": {},
   "outputs": [],
   "source": [
    "cur.execute(\"\"\"select open, date, symbol \n",
    "                    from stock_history \n",
    "                    where symbol = 'AAPL' \n",
    "                    order by date desc\n",
    "                    limit 59\"\"\")\n",
    "result = cur.fetchall()\n",
    "df = pd.DataFrame(result, columns = ['Open', 'Date', 'Symbol'])\n",
    "\n",
    "msft = yf.Ticker('AAPL')\n",
    "list_msft = msft.info\n",
    "curr_price = list_msft.get('currentPrice')\n",
    "today = date.today()\n",
    "latest_info = [curr_price, today, 'AAPL']"
   ]
  },
  {
   "cell_type": "code",
   "execution_count": 30,
   "metadata": {},
   "outputs": [
    {
     "data": {
      "text/plain": [
       "datetime.date(2021, 12, 5)"
      ]
     },
     "execution_count": 30,
     "metadata": {},
     "output_type": "execute_result"
    }
   ],
   "source": [
    "latest_info[1]+timedelta(days=1)"
   ]
  },
  {
   "cell_type": "code",
   "execution_count": 4,
   "metadata": {},
   "outputs": [
    {
     "data": {
      "text/html": [
       "<div>\n",
       "<style scoped>\n",
       "    .dataframe tbody tr th:only-of-type {\n",
       "        vertical-align: middle;\n",
       "    }\n",
       "\n",
       "    .dataframe tbody tr th {\n",
       "        vertical-align: top;\n",
       "    }\n",
       "\n",
       "    .dataframe thead th {\n",
       "        text-align: right;\n",
       "    }\n",
       "</style>\n",
       "<table border=\"1\" class=\"dataframe\">\n",
       "  <thead>\n",
       "    <tr style=\"text-align: right;\">\n",
       "      <th></th>\n",
       "      <th>Open</th>\n",
       "      <th>Date</th>\n",
       "      <th>Symbol</th>\n",
       "    </tr>\n",
       "  </thead>\n",
       "  <tbody>\n",
       "    <tr>\n",
       "      <th>54</th>\n",
       "      <td>148.603125</td>\n",
       "      <td>2021-09-17</td>\n",
       "      <td>AAPL</td>\n",
       "    </tr>\n",
       "    <tr>\n",
       "      <th>55</th>\n",
       "      <td>148.223670</td>\n",
       "      <td>2021-09-16</td>\n",
       "      <td>AAPL</td>\n",
       "    </tr>\n",
       "    <tr>\n",
       "      <th>56</th>\n",
       "      <td>148.343489</td>\n",
       "      <td>2021-09-15</td>\n",
       "      <td>AAPL</td>\n",
       "    </tr>\n",
       "    <tr>\n",
       "      <th>57</th>\n",
       "      <td>150.130890</td>\n",
       "      <td>2021-09-14</td>\n",
       "      <td>AAPL</td>\n",
       "    </tr>\n",
       "    <tr>\n",
       "      <th>58</th>\n",
       "      <td>150.410490</td>\n",
       "      <td>2021-09-13</td>\n",
       "      <td>AAPL</td>\n",
       "    </tr>\n",
       "  </tbody>\n",
       "</table>\n",
       "</div>"
      ],
      "text/plain": [
       "          Open        Date Symbol\n",
       "54  148.603125  2021-09-17   AAPL\n",
       "55  148.223670  2021-09-16   AAPL\n",
       "56  148.343489  2021-09-15   AAPL\n",
       "57  150.130890  2021-09-14   AAPL\n",
       "58  150.410490  2021-09-13   AAPL"
      ]
     },
     "execution_count": 4,
     "metadata": {},
     "output_type": "execute_result"
    }
   ],
   "source": [
    "df.tail()"
   ]
  },
  {
   "cell_type": "code",
   "execution_count": 5,
   "metadata": {},
   "outputs": [],
   "source": [
    "dict_ = dict(zip(['Open', 'Date', 'Symbol'], latest_info))\n",
    "dict_ = {_: [dict_[_]] for _ in dict_}"
   ]
  },
  {
   "cell_type": "code",
   "execution_count": 6,
   "metadata": {},
   "outputs": [
    {
     "data": {
      "text/plain": [
       "{'Open': [161.84], 'Date': [datetime.date(2021, 12, 4)], 'Symbol': ['AAPL']}"
      ]
     },
     "execution_count": 6,
     "metadata": {},
     "output_type": "execute_result"
    }
   ],
   "source": [
    "dict_"
   ]
  },
  {
   "cell_type": "code",
   "execution_count": 7,
   "metadata": {},
   "outputs": [],
   "source": [
    "df_del = pd.DataFrame(dict_)"
   ]
  },
  {
   "cell_type": "code",
   "execution_count": 8,
   "metadata": {},
   "outputs": [],
   "source": [
    "df = pd.concat([df, df_del], ignore_index=True, sort=True, axis=0)"
   ]
  },
  {
   "cell_type": "code",
   "execution_count": 9,
   "metadata": {},
   "outputs": [],
   "source": [
    "df.sort_values(by='Date', ascending=True, inplace=True)\n",
    "df.index = range(len(df))"
   ]
  },
  {
   "cell_type": "code",
   "execution_count": 10,
   "metadata": {},
   "outputs": [
    {
     "data": {
      "text/html": [
       "<div>\n",
       "<style scoped>\n",
       "    .dataframe tbody tr th:only-of-type {\n",
       "        vertical-align: middle;\n",
       "    }\n",
       "\n",
       "    .dataframe tbody tr th {\n",
       "        vertical-align: top;\n",
       "    }\n",
       "\n",
       "    .dataframe thead th {\n",
       "        text-align: right;\n",
       "    }\n",
       "</style>\n",
       "<table border=\"1\" class=\"dataframe\">\n",
       "  <thead>\n",
       "    <tr style=\"text-align: right;\">\n",
       "      <th></th>\n",
       "      <th>Date</th>\n",
       "      <th>Open</th>\n",
       "      <th>Symbol</th>\n",
       "    </tr>\n",
       "  </thead>\n",
       "  <tbody>\n",
       "    <tr>\n",
       "      <th>55</th>\n",
       "      <td>2021-11-30</td>\n",
       "      <td>159.990005</td>\n",
       "      <td>AAPL</td>\n",
       "    </tr>\n",
       "    <tr>\n",
       "      <th>56</th>\n",
       "      <td>2021-12-01</td>\n",
       "      <td>167.479996</td>\n",
       "      <td>AAPL</td>\n",
       "    </tr>\n",
       "    <tr>\n",
       "      <th>57</th>\n",
       "      <td>2021-12-02</td>\n",
       "      <td>158.740005</td>\n",
       "      <td>AAPL</td>\n",
       "    </tr>\n",
       "    <tr>\n",
       "      <th>58</th>\n",
       "      <td>2021-12-03</td>\n",
       "      <td>164.020004</td>\n",
       "      <td>AAPL</td>\n",
       "    </tr>\n",
       "    <tr>\n",
       "      <th>59</th>\n",
       "      <td>2021-12-04</td>\n",
       "      <td>161.840000</td>\n",
       "      <td>AAPL</td>\n",
       "    </tr>\n",
       "  </tbody>\n",
       "</table>\n",
       "</div>"
      ],
      "text/plain": [
       "          Date        Open Symbol\n",
       "55  2021-11-30  159.990005   AAPL\n",
       "56  2021-12-01  167.479996   AAPL\n",
       "57  2021-12-02  158.740005   AAPL\n",
       "58  2021-12-03  164.020004   AAPL\n",
       "59  2021-12-04  161.840000   AAPL"
      ]
     },
     "execution_count": 10,
     "metadata": {},
     "output_type": "execute_result"
    }
   ],
   "source": [
    "df.tail()"
   ]
  },
  {
   "cell_type": "code",
   "execution_count": null,
   "metadata": {},
   "outputs": [],
   "source": []
  },
  {
   "cell_type": "code",
   "execution_count": 11,
   "metadata": {},
   "outputs": [],
   "source": [
    "# Finding missing values\n",
    "t1 = df.Date[0]\n",
    "t2 = df.Date.iloc[-1]\n",
    "df_all = pd.DataFrame({'Date': [(t1+timedelta(days=_)) for _ in range((t2-t1).days+1)]})\n",
    "\n",
    "df = df_all.merge(df, on='Date', how='left')\n",
    "df = df.ffill()"
   ]
  },
  {
   "cell_type": "code",
   "execution_count": 12,
   "metadata": {},
   "outputs": [
    {
     "data": {
      "text/html": [
       "<div>\n",
       "<style scoped>\n",
       "    .dataframe tbody tr th:only-of-type {\n",
       "        vertical-align: middle;\n",
       "    }\n",
       "\n",
       "    .dataframe tbody tr th {\n",
       "        vertical-align: top;\n",
       "    }\n",
       "\n",
       "    .dataframe thead th {\n",
       "        text-align: right;\n",
       "    }\n",
       "</style>\n",
       "<table border=\"1\" class=\"dataframe\">\n",
       "  <thead>\n",
       "    <tr style=\"text-align: right;\">\n",
       "      <th></th>\n",
       "      <th>Date</th>\n",
       "      <th>Open</th>\n",
       "      <th>Symbol</th>\n",
       "    </tr>\n",
       "  </thead>\n",
       "  <tbody>\n",
       "    <tr>\n",
       "      <th>0</th>\n",
       "      <td>2021-09-13</td>\n",
       "      <td>150.410490</td>\n",
       "      <td>AAPL</td>\n",
       "    </tr>\n",
       "    <tr>\n",
       "      <th>1</th>\n",
       "      <td>2021-09-14</td>\n",
       "      <td>150.130890</td>\n",
       "      <td>AAPL</td>\n",
       "    </tr>\n",
       "    <tr>\n",
       "      <th>2</th>\n",
       "      <td>2021-09-15</td>\n",
       "      <td>148.343489</td>\n",
       "      <td>AAPL</td>\n",
       "    </tr>\n",
       "    <tr>\n",
       "      <th>3</th>\n",
       "      <td>2021-09-16</td>\n",
       "      <td>148.223670</td>\n",
       "      <td>AAPL</td>\n",
       "    </tr>\n",
       "    <tr>\n",
       "      <th>4</th>\n",
       "      <td>2021-09-17</td>\n",
       "      <td>148.603125</td>\n",
       "      <td>AAPL</td>\n",
       "    </tr>\n",
       "  </tbody>\n",
       "</table>\n",
       "</div>"
      ],
      "text/plain": [
       "         Date        Open Symbol\n",
       "0  2021-09-13  150.410490   AAPL\n",
       "1  2021-09-14  150.130890   AAPL\n",
       "2  2021-09-15  148.343489   AAPL\n",
       "3  2021-09-16  148.223670   AAPL\n",
       "4  2021-09-17  148.603125   AAPL"
      ]
     },
     "execution_count": 12,
     "metadata": {},
     "output_type": "execute_result"
    }
   ],
   "source": [
    "df.head()"
   ]
  },
  {
   "cell_type": "code",
   "execution_count": 13,
   "metadata": {},
   "outputs": [],
   "source": [
    "df = df.tail(60)\n",
    "df.index = range(len(df))"
   ]
  },
  {
   "cell_type": "code",
   "execution_count": 14,
   "metadata": {},
   "outputs": [],
   "source": [
    "df.drop(columns='Symbol', axis=1, inplace=True)\n",
    "df_hist = df"
   ]
  },
  {
   "cell_type": "code",
   "execution_count": 15,
   "metadata": {},
   "outputs": [],
   "source": [
    "# Creating Lagged Features\n",
    "df = pd.concat([df.Open]+[df.Open.shift(-_) for _ in range(1, 60)], axis=1)\n",
    "df.columns = ['Open_{}'.format(_) for _ in range(len(df.columns))]\n",
    "df = df.dropna(axis=0)"
   ]
  },
  {
   "cell_type": "code",
   "execution_count": 16,
   "metadata": {},
   "outputs": [
    {
     "data": {
      "text/html": [
       "<div>\n",
       "<style scoped>\n",
       "    .dataframe tbody tr th:only-of-type {\n",
       "        vertical-align: middle;\n",
       "    }\n",
       "\n",
       "    .dataframe tbody tr th {\n",
       "        vertical-align: top;\n",
       "    }\n",
       "\n",
       "    .dataframe thead th {\n",
       "        text-align: right;\n",
       "    }\n",
       "</style>\n",
       "<table border=\"1\" class=\"dataframe\">\n",
       "  <thead>\n",
       "    <tr style=\"text-align: right;\">\n",
       "      <th></th>\n",
       "      <th>Open_0</th>\n",
       "      <th>Open_1</th>\n",
       "      <th>Open_2</th>\n",
       "      <th>Open_3</th>\n",
       "      <th>Open_4</th>\n",
       "      <th>Open_5</th>\n",
       "      <th>Open_6</th>\n",
       "      <th>Open_7</th>\n",
       "      <th>Open_8</th>\n",
       "      <th>Open_9</th>\n",
       "      <th>...</th>\n",
       "      <th>Open_50</th>\n",
       "      <th>Open_51</th>\n",
       "      <th>Open_52</th>\n",
       "      <th>Open_53</th>\n",
       "      <th>Open_54</th>\n",
       "      <th>Open_55</th>\n",
       "      <th>Open_56</th>\n",
       "      <th>Open_57</th>\n",
       "      <th>Open_58</th>\n",
       "      <th>Open_59</th>\n",
       "    </tr>\n",
       "  </thead>\n",
       "  <tbody>\n",
       "    <tr>\n",
       "      <th>0</th>\n",
       "      <td>139.266749</td>\n",
       "      <td>142.851516</td>\n",
       "      <td>143.8201</td>\n",
       "      <td>143.8201</td>\n",
       "      <td>143.8201</td>\n",
       "      <td>142.062677</td>\n",
       "      <td>143.021267</td>\n",
       "      <td>141.034172</td>\n",
       "      <td>141.902902</td>\n",
       "      <td>143.560489</td>\n",
       "      <td>...</td>\n",
       "      <td>160.75</td>\n",
       "      <td>159.570007</td>\n",
       "      <td>159.570007</td>\n",
       "      <td>159.570007</td>\n",
       "      <td>159.369995</td>\n",
       "      <td>159.990005</td>\n",
       "      <td>167.479996</td>\n",
       "      <td>158.740005</td>\n",
       "      <td>164.020004</td>\n",
       "      <td>161.84</td>\n",
       "    </tr>\n",
       "  </tbody>\n",
       "</table>\n",
       "<p>1 rows × 60 columns</p>\n",
       "</div>"
      ],
      "text/plain": [
       "       Open_0      Open_1    Open_2    Open_3    Open_4      Open_5  \\\n",
       "0  139.266749  142.851516  143.8201  143.8201  143.8201  142.062677   \n",
       "\n",
       "       Open_6      Open_7      Open_8      Open_9  ...  Open_50     Open_51  \\\n",
       "0  143.021267  141.034172  141.902902  143.560489  ...   160.75  159.570007   \n",
       "\n",
       "      Open_52     Open_53     Open_54     Open_55     Open_56     Open_57  \\\n",
       "0  159.570007  159.570007  159.369995  159.990005  167.479996  158.740005   \n",
       "\n",
       "      Open_58  Open_59  \n",
       "0  164.020004   161.84  \n",
       "\n",
       "[1 rows x 60 columns]"
      ]
     },
     "execution_count": 16,
     "metadata": {},
     "output_type": "execute_result"
    }
   ],
   "source": [
    "df"
   ]
  },
  {
   "cell_type": "code",
   "execution_count": null,
   "metadata": {},
   "outputs": [],
   "source": []
  },
  {
   "cell_type": "code",
   "execution_count": null,
   "metadata": {},
   "outputs": [],
   "source": []
  },
  {
   "cell_type": "code",
   "execution_count": 17,
   "metadata": {},
   "outputs": [],
   "source": [
    "cur.execute(\"select * from means where symbol = 'AAPL'\")\n",
    "result = cur.fetchall()\n",
    "df_mean = pd.DataFrame(result)\n",
    "\n",
    "cur.execute(\"select * from standard_deviation where symbol = 'AAPL'\")\n",
    "result = cur.fetchall()\n",
    "df_std = pd.DataFrame(result)\n",
    "\n",
    "val_lst = df_mean.values.tolist()[0]\n",
    "target_mean = val_lst[-1]\n",
    "\n",
    "mean_list = []\n",
    "for i in range(1, len(val_lst)-1):\n",
    "    mean_list.append(val_lst[i])\n",
    "    \n",
    "val_lst = df_std.values.tolist()[0]\n",
    "target_std = val_lst[-1]\n",
    "\n",
    "std_list = []\n",
    "for i in range(1, len(val_lst)-1):\n",
    "    std_list.append(val_lst[i])"
   ]
  },
  {
   "cell_type": "code",
   "execution_count": 18,
   "metadata": {},
   "outputs": [],
   "source": [
    "# Scale Data\n",
    "for _ , col_ in enumerate(df.columns):\n",
    "    df[col_+'scaled'] = df[col_].apply(lambda x: (x - mean_list[_])/std_list[_])"
   ]
  },
  {
   "cell_type": "code",
   "execution_count": 19,
   "metadata": {},
   "outputs": [
    {
     "data": {
      "text/html": [
       "<div>\n",
       "<style scoped>\n",
       "    .dataframe tbody tr th:only-of-type {\n",
       "        vertical-align: middle;\n",
       "    }\n",
       "\n",
       "    .dataframe tbody tr th {\n",
       "        vertical-align: top;\n",
       "    }\n",
       "\n",
       "    .dataframe thead th {\n",
       "        text-align: right;\n",
       "    }\n",
       "</style>\n",
       "<table border=\"1\" class=\"dataframe\">\n",
       "  <thead>\n",
       "    <tr style=\"text-align: right;\">\n",
       "      <th></th>\n",
       "      <th>Open_0</th>\n",
       "      <th>Open_1</th>\n",
       "      <th>Open_2</th>\n",
       "      <th>Open_3</th>\n",
       "      <th>Open_4</th>\n",
       "      <th>Open_5</th>\n",
       "      <th>Open_6</th>\n",
       "      <th>Open_7</th>\n",
       "      <th>Open_8</th>\n",
       "      <th>Open_9</th>\n",
       "      <th>...</th>\n",
       "      <th>Open_50scaled</th>\n",
       "      <th>Open_51scaled</th>\n",
       "      <th>Open_52scaled</th>\n",
       "      <th>Open_53scaled</th>\n",
       "      <th>Open_54scaled</th>\n",
       "      <th>Open_55scaled</th>\n",
       "      <th>Open_56scaled</th>\n",
       "      <th>Open_57scaled</th>\n",
       "      <th>Open_58scaled</th>\n",
       "      <th>Open_59scaled</th>\n",
       "    </tr>\n",
       "  </thead>\n",
       "  <tbody>\n",
       "    <tr>\n",
       "      <th>0</th>\n",
       "      <td>139.266749</td>\n",
       "      <td>142.851516</td>\n",
       "      <td>143.8201</td>\n",
       "      <td>143.8201</td>\n",
       "      <td>143.8201</td>\n",
       "      <td>142.062677</td>\n",
       "      <td>143.021267</td>\n",
       "      <td>141.034172</td>\n",
       "      <td>141.902902</td>\n",
       "      <td>143.560489</td>\n",
       "      <td>...</td>\n",
       "      <td>4.623098</td>\n",
       "      <td>4.578476</td>\n",
       "      <td>4.572855</td>\n",
       "      <td>4.567156</td>\n",
       "      <td>4.554856</td>\n",
       "      <td>4.569707</td>\n",
       "      <td>4.810507</td>\n",
       "      <td>4.517689</td>\n",
       "      <td>4.685531</td>\n",
       "      <td>4.608374</td>\n",
       "    </tr>\n",
       "  </tbody>\n",
       "</table>\n",
       "<p>1 rows × 120 columns</p>\n",
       "</div>"
      ],
      "text/plain": [
       "       Open_0      Open_1    Open_2    Open_3    Open_4      Open_5  \\\n",
       "0  139.266749  142.851516  143.8201  143.8201  143.8201  142.062677   \n",
       "\n",
       "       Open_6      Open_7      Open_8      Open_9  ...  Open_50scaled  \\\n",
       "0  143.021267  141.034172  141.902902  143.560489  ...       4.623098   \n",
       "\n",
       "   Open_51scaled  Open_52scaled  Open_53scaled  Open_54scaled  Open_55scaled  \\\n",
       "0       4.578476       4.572855       4.567156       4.554856       4.569707   \n",
       "\n",
       "   Open_56scaled  Open_57scaled  Open_58scaled  Open_59scaled  \n",
       "0       4.810507       4.517689       4.685531       4.608374  \n",
       "\n",
       "[1 rows x 120 columns]"
      ]
     },
     "execution_count": 19,
     "metadata": {},
     "output_type": "execute_result"
    }
   ],
   "source": [
    "df"
   ]
  },
  {
   "cell_type": "code",
   "execution_count": 20,
   "metadata": {},
   "outputs": [],
   "source": [
    "# Prepare X-y data\n",
    "df = df[[_ for _ in df.columns if 'scaled' in _]]\n",
    "\n",
    "df = df.to_numpy()"
   ]
  },
  {
   "cell_type": "code",
   "execution_count": 21,
   "metadata": {},
   "outputs": [
    {
     "data": {
      "text/plain": [
       "array([[4.16955809, 4.28995158, 4.31871228, 4.31362052, 4.30836503,\n",
       "        4.2416436 , 4.26970601, 4.19527797, 4.22012696, 4.27227294,\n",
       "        4.26662192, 4.26117678, 4.24436584, 4.36117252, 4.41342961,\n",
       "        4.41126779, 4.4355515 , 4.43002518, 4.4245423 , 4.3843467 ,\n",
       "        4.4009423 , 4.396205  , 4.40614694, 4.31186817, 4.306192  ,\n",
       "        4.30046448, 4.35518699, 4.33861706, 4.39187334, 4.42675503,\n",
       "        4.43932367, 4.43375962, 4.42826157, 4.40647073, 4.36016721,\n",
       "        4.34866917, 4.30762238, 4.28446793, 4.27916026, 4.27385164,\n",
       "        4.33351987, 4.31382209, 4.34370363, 4.42856227, 4.5542171 ,\n",
       "        4.54850843, 4.54267463, 4.67071563, 4.64664703, 4.62872653,\n",
       "        4.62309836, 4.57847596, 4.57285495, 4.56715642, 4.55485641,\n",
       "        4.5697071 , 4.8105073 , 4.51768914, 4.68553133, 4.60837427]])"
      ]
     },
     "execution_count": 21,
     "metadata": {},
     "output_type": "execute_result"
    }
   ],
   "source": [
    "df"
   ]
  },
  {
   "cell_type": "code",
   "execution_count": 22,
   "metadata": {},
   "outputs": [],
   "source": [
    "# Converting to 3-D tensor\n",
    "df = df.reshape(df.shape[0], df.shape[1] , 1)"
   ]
  },
  {
   "cell_type": "code",
   "execution_count": 23,
   "metadata": {},
   "outputs": [],
   "source": [
    "# Loading Saved Model\n",
    "import tensorflow\n",
    "model = tensorflow.keras.models.load_model('LSTM_APPLE.h5')"
   ]
  },
  {
   "cell_type": "code",
   "execution_count": 24,
   "metadata": {},
   "outputs": [],
   "source": [
    "# Predictions\n",
    "predictions = model.predict(df)\n",
    "predictions = [predictions[_][0] for _ in range(len(predictions))]\n",
    "y_test_predicted = [(_*target_std)+target_mean for _ in predictions]"
   ]
  },
  {
   "cell_type": "code",
   "execution_count": 37,
   "metadata": {},
   "outputs": [
    {
     "data": {
      "text/plain": [
       "[160.28157937641694]"
      ]
     },
     "execution_count": 37,
     "metadata": {},
     "output_type": "execute_result"
    }
   ],
   "source": [
    "y_test_predicted"
   ]
  },
  {
   "cell_type": "code",
   "execution_count": 27,
   "metadata": {},
   "outputs": [],
   "source": [
    "df_latest = df_hist.tail(7)"
   ]
  },
  {
   "cell_type": "code",
   "execution_count": 31,
   "metadata": {},
   "outputs": [
    {
     "data": {
      "text/plain": [
       "Index(['Date', 'Open'], dtype='object')"
      ]
     },
     "execution_count": 31,
     "metadata": {},
     "output_type": "execute_result"
    }
   ],
   "source": [
    "df_latest.columns"
   ]
  },
  {
   "cell_type": "code",
   "execution_count": 47,
   "metadata": {},
   "outputs": [
    {
     "data": {
      "text/plain": [
       "[<matplotlib.lines.Line2D at 0x1cd24b7de20>]"
      ]
     },
     "execution_count": 47,
     "metadata": {},
     "output_type": "execute_result"
    },
    {
     "data": {
      "image/png": "[encoded data removed]",
      "text/plain": [
       "<Figure size 864x432 with 1 Axes>"
      ]
     },
     "metadata": {
      "needs_background": "light"
     },
     "output_type": "display_data"
    }
   ],
   "source": [
    "figure(figsize=(12, 6))\n",
    "plot(list(df_latest.Date.astype('str').values)+[(latest_info[1]+timedelta(days=1)).__str__()], list(df_latest.Open.values)+y_test_predicted, color='blue')\n",
    "plot(list(df_latest.Date.astype('str').tail(1).values)+[(latest_info[1]+timedelta(days=1)).__str__()], list(df_latest.Open.tail(1).values)+y_test_predicted, '-.', color='red')\n"
   ]
  },
  {
   "cell_type": "code",
   "execution_count": 35,
   "metadata": {},
   "outputs": [
    {
     "data": {
      "text/plain": [
       "['2021-11-28',\n",
       " '2021-11-29',\n",
       " '2021-11-30',\n",
       " '2021-12-01',\n",
       " '2021-12-02',\n",
       " '2021-12-03',\n",
       " '2021-12-04',\n",
       " '2021-12-05']"
      ]
     },
     "execution_count": 35,
     "metadata": {},
     "output_type": "execute_result"
    }
   ],
   "source": [
    "list(df_latest.Date.astype('str').values)+[(latest_info[1]+timedelta(days=1)).__str__()]"
   ]
  },
  {
   "cell_type": "code",
   "execution_count": 34,
   "metadata": {},
   "outputs": [
    {
     "data": {
      "text/plain": [
       "[159.57000732421875,\n",
       " 159.3699951171875,\n",
       " 159.99000549316406,\n",
       " 167.47999572753906,\n",
       " 158.74000549316406,\n",
       " 164.02000427246094,\n",
       " 161.84,\n",
       " [160.28157937641694]]"
      ]
     },
     "execution_count": 34,
     "metadata": {},
     "output_type": "execute_result"
    }
   ],
   "source": [
    "list(df_latest.Open.values)+[y_test_predicted]"
   ]
  },
  {
   "cell_type": "code",
   "execution_count": null,
   "metadata": {},
   "outputs": [],
   "source": []
  }
 ],
 "metadata": {
  "kernelspec": {
   "display_name": "Python 3",
   "language": "python",
   "name": "python3"
  },
  "language_info": {
   "codemirror_mode": {
    "name": "ipython",
    "version": 3
   },
   "file_extension": ".py",
   "mimetype": "text/x-python",
   "name": "python",
   "nbconvert_exporter": "python",
   "pygments_lexer": "ipython3",
   "version": "3.8.5"
  }
 },
 "nbformat": 4,
 "nbformat_minor": 4
}
