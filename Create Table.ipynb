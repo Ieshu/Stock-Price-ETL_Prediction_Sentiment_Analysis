{
 "cells": [
  {
   "cell_type": "markdown",
   "metadata": {},
   "source": [
    "## Import the required libraries"
   ]
  },
  {
   "cell_type": "code",
   "execution_count": 15,
   "metadata": {},
   "outputs": [],
   "source": [
    "import psycopg2\n",
    "import configparser"
   ]
  },
  {
   "cell_type": "markdown",
   "metadata": {},
   "source": [
    "## Create the DB Connection"
   ]
  },
  {
   "cell_type": "code",
   "execution_count": 16,
   "metadata": {},
   "outputs": [],
   "source": [
    "def create_connection():\n",
    "    conn = psycopg2.connect(\"host=127.0.0.1 dbname=dmqldb user=postgres password=student\")\n",
    "    cur = conn.cursor()       \n",
    "    return conn, cur\n",
    "\n",
    "conn, cur = create_connection()"
   ]
  },
  {
   "cell_type": "markdown",
   "metadata": {},
   "source": [
    "## Execute drop statement"
   ]
  },
  {
   "cell_type": "code",
   "execution_count": 17,
   "metadata": {},
   "outputs": [],
   "source": [
    "cur.execute('DROP TABLE IF EXISTS company_detail')\n",
    "cur.execute('DROP TABLE IF EXISTS stock_history')\n",
    "cur.execute('DROP TABLE IF EXISTS stock_matrix')\n",
    "cur.execute('DROP TABLE IF EXISTS market')\n",
    "cur.execute('DROP TABLE IF EXISTS company')"
   ]
  },
  {
   "cell_type": "markdown",
   "metadata": {},
   "source": [
    "## Create statements"
   ]
  },
  {
   "cell_type": "code",
   "execution_count": 18,
   "metadata": {},
   "outputs": [],
   "source": [
    "create_market = \"\"\" CREATE TABLE IF NOT EXISTS market (\n",
    "                                                        market_code VARCHAR(5) PRIMARY KEY, \n",
    "                                                        country VARCHAR(50), \n",
    "                                                        city VARCHAR(50), \n",
    "                                                        region VARCHAR(50)\n",
    "                                                        )\"\"\"\n",
    "\n",
    "create_company = \"\"\" CREATE TABLE IF NOT EXISTS company (\n",
    "                                                          symbol varchar(5) PRIMARY KEY,\n",
    "                                                          name VARCHAR(50),\n",
    "                                                          sector VARCHAR(30)\n",
    "                                                        )\"\"\"\n",
    "\n",
    "create_company_detail = \"\"\" CREATE TABLE IF NOT EXISTS company_detail (\n",
    "                                                                        symbol VARCHAR(5),\n",
    "                                                                        market_code VARCHAR(5),\n",
    "                                                                        address VARCHAR(100),\n",
    "                                                                        phone VARCHAR(15),\n",
    "                                                                        PRIMARY KEY (symbol, market_code),\n",
    "                                                                        FOREIGN KEY (symbol) REFERENCES company(symbol),\n",
    "                                                                        FOREIGN KEY (market_code) REFERENCES market(market_code)\n",
    "                                                                       )\"\"\"\n",
    "\n",
    "create_stock_history = \"\"\" CREATE TABLE IF NOT EXISTS stock_history (\n",
    "                                                                     market_code VARCHAR(5),\n",
    "                                                                     symbol VARCHAR(5),\n",
    "                                                                     date DATE,\n",
    "                                                                     open float8,\n",
    "                                                                     high float8,\n",
    "                                                                     low float8,\n",
    "                                                                     close float8,\n",
    "                                                                     volume int8,\n",
    "                                                                     dividend int8,\n",
    "                                                                     stock_split int8,\n",
    "                                                                     PRIMARY KEY (symbol, market_code, date),\n",
    "                                                                     FOREIGN KEY (symbol) REFERENCES company(symbol),\n",
    "                                                                     FOREIGN KEY (market_code) REFERENCES market(market_code)                                                                    \n",
    "                                                                    )\"\"\"\n",
    "\n",
    "create_stock_matrix = \"\"\" CREATE TABLE IF NOT EXISTS stock_matrix (\n",
    "                                                                    market_code VARCHAR(5),\n",
    "                                                                    symbol VARCHAR(5),\n",
    "                                                                    day_high float8,\n",
    "                                                                    day_low float8,\n",
    "                                                                    price float8,\n",
    "                                                                    recommendation VARCHAR(5),\n",
    "                                                                    PRIMARY KEY (symbol, market_code),\n",
    "                                                                    FOREIGN KEY (symbol) REFERENCES company(symbol),\n",
    "                                                                    FOREIGN KEY (market_code) REFERENCES market(market_code)\n",
    "                                                                   )\"\"\""
   ]
  },
  {
   "cell_type": "markdown",
   "metadata": {},
   "source": [
    "## Execute create statement"
   ]
  },
  {
   "cell_type": "code",
   "execution_count": 19,
   "metadata": {},
   "outputs": [],
   "source": [
    "cur.execute(create_market)\n",
    "cur.execute(create_company)\n",
    "cur.execute(create_company_detail)\n",
    "cur.execute(create_stock_history)\n",
    "cur.execute(create_stock_matrix)"
   ]
  },
  {
   "cell_type": "code",
   "execution_count": 20,
   "metadata": {},
   "outputs": [],
   "source": [
    "conn.commit()"
   ]
  },
  {
   "cell_type": "code",
   "execution_count": 21,
   "metadata": {},
   "outputs": [],
   "source": [
    "#cur.execute('DROP TABLE IF EXISTS company_detail')\n",
    "#cur.execute('DROP TABLE IF EXISTS stock_history')\n",
    "#cur.execute('DROP TABLE IF EXISTS stock_matrix')\n",
    "#cur.execute('DROP TABLE IF EXISTS market')\n",
    "#cur.execute('DROP TABLE IF EXISTS company')"
   ]
  },
  {
   "cell_type": "code",
   "execution_count": 22,
   "metadata": {},
   "outputs": [],
   "source": [
    "conn.close()"
   ]
  },
  {
   "cell_type": "code",
   "execution_count": null,
   "metadata": {},
   "outputs": [],
   "source": []
  }
 ],
 "metadata": {
  "kernelspec": {
   "display_name": "Python 3",
   "language": "python",
   "name": "python3"
  },
  "language_info": {
   "codemirror_mode": {
    "name": "ipython",
    "version": 3
   },
   "file_extension": ".py",
   "mimetype": "text/x-python",
   "name": "python",
   "nbconvert_exporter": "python",
   "pygments_lexer": "ipython3",
   "version": "3.8.5"
  }
 },
 "nbformat": 4,
 "nbformat_minor": 4
}
